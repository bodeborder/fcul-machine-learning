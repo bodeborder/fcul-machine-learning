{
 "cells": [
  {
   "cell_type": "code",
   "execution_count": 1,
   "metadata": {},
   "outputs": [],
   "source": [
    "#imports\n",
    "import numpy as np\n",
    "import pandas as pd\n",
    "import matplotlib.pyplot as plt\n",
    "from sklearn.model_selection import train_test_split\n",
    "from sklearn.tree import DecisionTreeRegressor, DecisionTreeClassifier, plot_tree\n",
    "from sklearn.linear_model import LinearRegression, LogisticRegression\n",
    "from sklearn.metrics import explained_variance_score, mean_squared_error, max_error, mean_absolute_error\n",
    "from sklearn.metrics import precision_score, recall_score, f1_score, matthews_corrcoef, confusion_matrix, accuracy_score, classification_report\n",
    "from sklearn.model_selection import KFold\n",
    "from collections import Counter\n",
    "from scipy.stats import pearsonr"
   ]
  },
  {
   "cell_type": "markdown",
   "metadata": {},
   "source": [
    "## Load Data"
   ]
  },
  {
   "cell_type": "code",
   "execution_count": 14,
   "metadata": {},
   "outputs": [
    {
     "name": "stdout",
     "output_type": "stream",
     "text": [
      "<class 'pandas.core.frame.DataFrame'>\n",
      "RangeIndex: 78096 entries, 0 to 78095\n",
      "Data columns (total 38 columns):\n",
      " #   Column  Non-Null Count  Dtype  \n",
      "---  ------  --------------  -----  \n",
      " 0   Class   78096 non-null  int64  \n",
      " 1   User    78096 non-null  int64  \n",
      " 2   X0      78096 non-null  float64\n",
      " 3   Y0      78096 non-null  float64\n",
      " 4   Z0      78096 non-null  float64\n",
      " 5   X1      78096 non-null  float64\n",
      " 6   Y1      78096 non-null  float64\n",
      " 7   Z1      78096 non-null  float64\n",
      " 8   X2      78096 non-null  float64\n",
      " 9   Y2      78096 non-null  float64\n",
      " 10  Z2      78096 non-null  float64\n",
      " 11  X3      78096 non-null  object \n",
      " 12  Y3      78096 non-null  object \n",
      " 13  Z3      78096 non-null  object \n",
      " 14  X4      78096 non-null  object \n",
      " 15  Y4      78096 non-null  object \n",
      " 16  Z4      78096 non-null  object \n",
      " 17  X5      78096 non-null  object \n",
      " 18  Y5      78096 non-null  object \n",
      " 19  Z5      78096 non-null  object \n",
      " 20  X6      78096 non-null  object \n",
      " 21  Y6      78096 non-null  object \n",
      " 22  Z6      78096 non-null  object \n",
      " 23  X7      78096 non-null  object \n",
      " 24  Y7      78096 non-null  object \n",
      " 25  Z7      78096 non-null  object \n",
      " 26  X8      78096 non-null  object \n",
      " 27  Y8      78096 non-null  object \n",
      " 28  Z8      78096 non-null  object \n",
      " 29  X9      78096 non-null  object \n",
      " 30  Y9      78096 non-null  object \n",
      " 31  Z9      78096 non-null  object \n",
      " 32  X10     78096 non-null  object \n",
      " 33  Y10     78096 non-null  object \n",
      " 34  Z10     78096 non-null  object \n",
      " 35  X11     78096 non-null  object \n",
      " 36  Y11     78096 non-null  object \n",
      " 37  Z11     78096 non-null  object \n",
      "dtypes: float64(9), int64(2), object(27)\n",
      "memory usage: 22.6+ MB\n",
      "None\n"
     ]
    }
   ],
   "source": [
    "#creates a dataframe from a file\n",
    "df = pd.read_csv(\"Postures.csv\")\n",
    "\n",
    "#info\n",
    "print(df.info())"
   ]
  },
  {
   "cell_type": "code",
   "execution_count": 15,
   "metadata": {},
   "outputs": [
    {
     "name": "stdout",
     "output_type": "stream",
     "text": [
      "       Class  User         X0          Y0         Z0         X1          Y1  \\\n",
      "0          0     0   0.000000    0.000000   0.000000   0.000000    0.000000   \n",
      "1          1     0  54.263880   71.466776 -64.807709  76.895635   42.462500   \n",
      "2          1     0  56.527558   72.266609 -61.935252  39.135978   82.538530   \n",
      "3          1     0  55.849928   72.469064 -62.562788  37.988804   82.631347   \n",
      "4          1     0  55.329647   71.707275 -63.688956  36.561863   81.868749   \n",
      "...      ...   ...        ...         ...        ...        ...         ...   \n",
      "78091      5    14  54.251127  129.177414 -44.252511  27.720784  107.810661   \n",
      "78092      5    14  54.334883  129.253842 -44.016320  27.767911  107.914808   \n",
      "78093      5    14  54.151540  129.269502 -44.173273  27.725978  108.034006   \n",
      "78094      5    14  27.915311  108.007390  10.814957  -0.910435  122.464093   \n",
      "78095      5    14  27.898705  108.092877  11.107857 -30.031402   77.740235   \n",
      "\n",
      "              Z1         X2          Y2  ...                 Z8  \\\n",
      "0       0.000000   0.000000    0.000000  ...                  0   \n",
      "1     -72.780545  36.621229   81.680557  ...                  ?   \n",
      "2     -49.596509  79.223743   43.254091  ...                  ?   \n",
      "3     -50.606259  78.451526   43.567403  ...                  ?   \n",
      "4     -52.752784  86.320630   68.214645  ...                  ?   \n",
      "...          ...        ...         ...  ...                ...   \n",
      "78091  11.099282  -1.270139  122.758679  ...  -6.54311453354464   \n",
      "78092  11.069842 -30.334054   77.858214  ...  -62.1305625712145   \n",
      "78093  11.020347 -22.574718  104.222208  ...   3.83590370588782   \n",
      "78094 -47.271248 -30.084588   77.705861  ...  -63.2216259324485   \n",
      "78095 -17.453099  -1.091566  122.827638  ...  -63.0265744155222   \n",
      "\n",
      "                     X9                Y9                 Z9 X10 Y10 Z10 X11  \\\n",
      "0                     0                 0                  0   0   0   0   0   \n",
      "1                     ?                 ?                  ?   ?   ?   ?   ?   \n",
      "2                     ?                 ?                  ?   ?   ?   ?   ?   \n",
      "3                     ?                 ?                  ?   ?   ?   ?   ?   \n",
      "4                     ?                 ?                  ?   ?   ?   ?   ?   \n",
      "...                 ...               ...                ...  ..  ..  ..  ..   \n",
      "78091  87.7333643096221  61.2163626180662  -62.1262783028233   ?   ?   ?   ?   \n",
      "78092  78.2298473919132  33.0784071753174  -45.2495433686171   ?   ?   ?   ?   \n",
      "78093   78.591554010542    32.32773753847  -46.1665560916632   ?   ?   ?   ?   \n",
      "78094                 ?                 ?                  ?   ?   ?   ?   ?   \n",
      "78095  78.8796525666014  31.6030997578398  -47.0137357205196   ?   ?   ?   ?   \n",
      "\n",
      "      Y11 Z11  \n",
      "0       0   0  \n",
      "1       ?   ?  \n",
      "2       ?   ?  \n",
      "3       ?   ?  \n",
      "4       ?   ?  \n",
      "...    ..  ..  \n",
      "78091   ?   ?  \n",
      "78092   ?   ?  \n",
      "78093   ?   ?  \n",
      "78094   ?   ?  \n",
      "78095   ?   ?  \n",
      "\n",
      "[78096 rows x 38 columns]\n"
     ]
    }
   ],
   "source": [
    "print(df)"
   ]
  },
  {
   "cell_type": "code",
   "execution_count": 16,
   "metadata": {},
   "outputs": [
    {
     "data": {
      "text/plain": [
       "array([[1, 0, 54.2638799540698, ..., '?', '?', '?'],\n",
       "       [1, 0, 56.5275584513992, ..., '?', '?', '?'],\n",
       "       [1, 0, 55.8499275533856, ..., '?', '?', '?'],\n",
       "       ...,\n",
       "       [5, 14, 54.1515399011587, ..., '?', '?', '?'],\n",
       "       [5, 14, 27.9153113368356, ..., '?', '?', '?'],\n",
       "       [5, 14, 27.8987054186744, ..., '?', '?', '?']], dtype=object)"
      ]
     },
     "execution_count": 16,
     "metadata": {},
     "output_type": "execute_result"
    }
   ],
   "source": [
    "#ignoring the first row of the dataset\n",
    "df = df.values[1:]\n",
    "df"
   ]
  },
  {
   "cell_type": "code",
   "execution_count": null,
   "metadata": {},
   "outputs": [],
   "source": [
    "# variable to classify is the firts column Class, with values ranging between 1 and 5\n",
    "\n",
    "#the user column has values ranging between 0 and 14 skipping the 3\n",
    "\n",
    "# ? values see what to do with those, eliminating them does seem like an option , replace them with another value maybe (Nan) , imputating with other value (mean)"
   ]
  }
 ],
 "metadata": {
  "kernelspec": {
   "display_name": "base",
   "language": "python",
   "name": "python3"
  },
  "language_info": {
   "codemirror_mode": {
    "name": "ipython",
    "version": 3
   },
   "file_extension": ".py",
   "mimetype": "text/x-python",
   "name": "python",
   "nbconvert_exporter": "python",
   "pygments_lexer": "ipython3",
   "version": "3.11.4"
  }
 },
 "nbformat": 4,
 "nbformat_minor": 2
}
